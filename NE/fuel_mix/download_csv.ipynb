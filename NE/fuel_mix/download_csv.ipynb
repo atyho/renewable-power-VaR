{
 "cells": [
  {
   "cell_type": "code",
   "execution_count": null,
   "id": "65dd59c1-4e45-46b6-990f-0d77765c1cf3",
   "metadata": {},
   "outputs": [],
   "source": [
    "import os\n",
    "from selenium import webdriver\n",
    "from selenium.webdriver.chrome.service import Service\n",
    "from webdriver_manager.chrome import ChromeDriverManager\n",
    "from selenium.webdriver.common.by import By\n",
    "from datetime import datetime, timedelta\n",
    "import time"
   ]
  },
  {
   "cell_type": "code",
   "execution_count": null,
   "id": "a54002db-3cb8-4dd7-a984-6d8d6bc828fe",
   "metadata": {},
   "outputs": [],
   "source": [
    "def initialize_webdriver(initial_url=\"https://www.google.com\"):\n",
    "    # Initialize WebDriver with options\n",
    "    options = webdriver.ChromeOptions()\n",
    "    \n",
    "    # Replicate the user-agent and other common headers\n",
    "    options.add_argument(\"start-maximized\")\n",
    "    options.add_argument(\"user-agent=Mozilla/5.0 (Windows NT 10.0; Win64; x64) AppleWebKit/537.36 (KHTML, like Gecko) Chrome/91.0.4472.124 Safari/537.36\")\n",
    "    options.add_argument(\"accept=text/html,application/xhtml+xml,application/xml;q=0.9,image/webp,*/*;q=0.8\")\n",
    "    options.add_argument(\"accept-language=en-US,en;q=0.5\")\n",
    "    options.add_argument(\"accept-encoding=gzip, deflate\")\n",
    "    options.add_argument(\"--headless\")\n",
    "    \n",
    "    # Preferences to automatically download files without prompting\n",
    "    cwd = os.getcwd() # Get the current working directory\n",
    "    prefs = {\n",
    "        \"download.default_directory\": cwd,\n",
    "        \"download.prompt_for_download\": False,\n",
    "        \"download.directory_upgrade\": True,\n",
    "        \"safebrowsing.enabled\": True\n",
    "    }\n",
    "    options.add_experimental_option(\"prefs\", prefs)\n",
    "\n",
    "    driver = webdriver.Chrome(service=Service(ChromeDriverManager().install()), options=options)\n",
    "\n",
    "    # Navigate to the initial URL\n",
    "    driver.get(initial_url)\n",
    "    time.sleep(5)  # Give some time for the page to load and session to be established\n",
    "    \n",
    "    return driver"
   ]
  },
  {
   "cell_type": "code",
   "execution_count": null,
   "id": "d45fb287-757b-48e6-8ba5-5cfa2aa177fc",
   "metadata": {},
   "outputs": [],
   "source": [
    "def download_csv(driver, base_url, start_date, end_date, initial_url):\n",
    "\n",
    "    # Navigate to the initial URL\n",
    "    driver.get(initial_url)\n",
    "    time.sleep(5)  # Give some time for the page to load and session to be established\n",
    "    \n",
    "    # Iterate over the dates and download the files\n",
    "    current_date = start_date\n",
    "    \n",
    "    while current_date <= end_date:\n",
    "        formatted_date = current_date.strftime('%Y%m%d')\n",
    "        url = f\"{base_url}{formatted_date}\"\n",
    "        \n",
    "        try:\n",
    "            driver.get(url)\n",
    "            time.sleep(5)  # Wait for the download to complete (adjust as needed)\n",
    "            print(f\"Succeeded: downloaded file {formatted_date} from {url}...\")            \n",
    "    \n",
    "        except Exception as e:\n",
    "            print(f\"Failed. Error: {e}\")\n",
    "            # Check for disconnection and re-initialize the WebDriver\n",
    "            if \"disconnected\" in str(e):\n",
    "                print(\"Re-initializing WebDriver due to disconnection...\")\n",
    "                driver.quit()  # Quit the old instance\n",
    "                driver = initialize_webdriver(initial_url)  # Re-initialize WebDriver\n",
    "                continue  # Retry the current date after reinitializing\n",
    "        \n",
    "        current_date += timedelta(days=1)"
   ]
  },
  {
   "cell_type": "code",
   "execution_count": null,
   "id": "9ca6d0f3-9121-4ba9-a15d-a98d99397c83",
   "metadata": {},
   "outputs": [],
   "source": [
    "if __name__ == \"__main__\":\n",
    "\n",
    "    # URL to initiate the session\n",
    "    initial_url = \"https://www.iso-ne.com/isoexpress/web/reports/operations/-/tree/gen-fuel-mix\"\n",
    "\n",
    "    # Initialize the WebDriver with the specified initial URL\n",
    "    driver = initialize_webdriver()\n",
    "\n",
    "    # Base URL without the date\n",
    "    base_url = \"https://www.iso-ne.com/transform/csv/genfuelmix?start=\"\n",
    "    \n",
    "    # Define the start and end dates\n",
    "    start_date = datetime(2018, 1, 1) # Start date (January 1, 2018)\n",
    "    end_date = datetime(2018, 1, 2) # End date (December 31, 2023)\n",
    "    \n",
    "    # Download the files\n",
    "    download_csv(driver, base_url, start_date, end_date, initial_url)\n",
    "\n",
    "    driver.quit()"
   ]
  }
 ],
 "metadata": {
  "kernelspec": {
   "display_name": "Python 3 (ipykernel)",
   "language": "python",
   "name": "python3"
  },
  "language_info": {
   "codemirror_mode": {
    "name": "ipython",
    "version": 3
   },
   "file_extension": ".py",
   "mimetype": "text/x-python",
   "name": "python",
   "nbconvert_exporter": "python",
   "pygments_lexer": "ipython3",
   "version": "3.12.4"
  }
 },
 "nbformat": 4,
 "nbformat_minor": 5
}
